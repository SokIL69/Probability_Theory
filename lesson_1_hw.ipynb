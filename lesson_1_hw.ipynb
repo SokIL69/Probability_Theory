{
 "cells": [
  {
   "cell_type": "markdown",
   "metadata": {},
   "source": [
    "# Теория вероятностей и математическая статистика"
   ]
  },
  {
   "cell_type": "markdown",
   "metadata": {},
   "source": [
    "### Урок 1. Случайные события. Условная вероятность. Формула Байеса. Независимые испытания"
   ]
  },
  {
   "cell_type": "markdown",
   "metadata": {},
   "source": [
    "ДЗ сдаем ссылкой на GitHub\n",
    "\n",
    "Урок 1.\n",
    "\n",
    "1. Из колоды в 52 карты извлекаются случайным образом 4 карты. a) Найти вероятность того, что все карты – крести. б) Найти вероятность, что среди 4-х карт окажется хотя бы один туз.\n",
    "    \n",
    "2. На входной двери подъезда установлен кодовый замок, содержащий десять кнопок с цифрами от 0 до 9. Код содержит три цифры, которые нужно нажать одновременно. Какова вероятность того, что человек, не знающий код, откроет дверь с первой попытки?\n",
    "\n",
    "3. В ящике имеется 15 деталей, из которых 9 окрашены. Рабочий случайным образом извлекает 3 детали. Какова вероятность того, что все извлеченные детали окрашены?\n",
    "\n",
    "4. В лотерее 100 билетов. Из них 2 выигрышных. Какова вероятность того, что 2 приобретенных билета окажутся выигрышными?"
   ]
  },
  {
   "cell_type": "code",
   "execution_count": 86,
   "metadata": {},
   "outputs": [],
   "source": [
    "from math import factorial"
   ]
  },
  {
   "cell_type": "markdown",
   "metadata": {},
   "source": [
    "Число сочетаний\n",
    "\n",
    "$$C_{n}^k =\\frac{n!}{k!(n - k)!}$$ "
   ]
  },
  {
   "cell_type": "code",
   "execution_count": 89,
   "metadata": {},
   "outputs": [],
   "source": [
    "def combinations(n, k):\n",
    "    # Число сочетаний из  𝑛  элементов по  𝑘  элементов в каждом (в сочетаниях порядок не важен):\n",
    "    return int(factorial(n) / (factorial(k) * factorial(n - k)))"
   ]
  },
  {
   "cell_type": "markdown",
   "metadata": {},
   "source": [
    "Число размещений\n",
    "\n",
    "$$C_{n}^k =\\frac{n!}{(n - k)!}$$ "
   ]
  },
  {
   "cell_type": "code",
   "execution_count": 90,
   "metadata": {},
   "outputs": [],
   "source": [
    "def arrangements(n, k):\n",
    "    # число размещений из  𝑛  элементов по  𝑘  элементов в каждом. При размещениях порядок важен\n",
    "    return int(factorial(n) / factorial(n - k))"
   ]
  },
  {
   "cell_type": "markdown",
   "metadata": {},
   "source": [
    "Число перестановок\n",
    "\n",
    "$$P_{n} = n!$$ "
   ]
  },
  {
   "cell_type": "code",
   "execution_count": 92,
   "metadata": {},
   "outputs": [],
   "source": [
    "def permutations(n):\n",
    "    # Число перестановок из  𝑛  элементов\n",
    "    return int(factorial(n))"
   ]
  },
  {
   "cell_type": "markdown",
   "metadata": {},
   "source": [
    "## Задача 1"
   ]
  },
  {
   "cell_type": "markdown",
   "metadata": {},
   "source": [
    "Из колоды в 52 карты извлекаются случайным образом 4 карты.\n",
    "\n",
    "a) Найти вероятность того, что все карты – крести.\n",
    "\n",
    "б) Найти вероятность, что среди 4-х карт окажется хотя бы один туз"
   ]
  },
  {
   "cell_type": "markdown",
   "metadata": {},
   "source": [
    "- k = 4 < 52\n",
    "- порядок не важен\n",
    "\n",
    "это **Сочетание**."
   ]
  },
  {
   "cell_type": "markdown",
   "metadata": {},
   "source": [
    "### a) Найти вероятность того, что все карты – крести"
   ]
  },
  {
   "cell_type": "markdown",
   "metadata": {},
   "source": [
    "1. Количество карт масти *Крести* n= 52/4=13\n",
    "2. Количество комбинаций из 4 карт масти крести \n",
    "\n",
    "$$C_{13}^4 =\\frac{n!}{k!(n - k)!}= \\frac{13!}{4!(13-4)!}=715, $$ \n",
    "\n",
    "$$n=13, k=4$$\n",
    "\n",
    "***Возможно 715 комбинаций с 4 картами масти крести. Количество карт масти крести = 14.***"
   ]
  },
  {
   "cell_type": "code",
   "execution_count": 18,
   "metadata": {},
   "outputs": [
    {
     "name": "stdout",
     "output_type": "stream",
     "text": [
      "13\n"
     ]
    },
    {
     "data": {
      "text/plain": [
       "715"
      ]
     },
     "execution_count": 18,
     "metadata": {},
     "output_type": "execute_result"
    }
   ],
   "source": [
    "print(int(52/4))\n",
    "C_13_4=combinations(13, 4)\n",
    "C_13_4"
   ]
  },
  {
   "cell_type": "markdown",
   "metadata": {},
   "source": [
    "3. Количество комбинаций из 4 карт из колоды в 52 карты\n",
    "$$C_{52}^4 =\\frac{n!}{k!(n - k)!}= \\frac{52!}{4!(52-4)!}=270725, $$ \n",
    "\n",
    "$$n=52, k=4$$\n",
    "\n",
    "***Возможно 270725 комбинаций с 4 картами из колоды 52 карты.***"
   ]
  },
  {
   "cell_type": "code",
   "execution_count": 19,
   "metadata": {},
   "outputs": [
    {
     "data": {
      "text/plain": [
       "270725"
      ]
     },
     "execution_count": 19,
     "metadata": {},
     "output_type": "execute_result"
    }
   ],
   "source": [
    "C_52_4=combinations(52, 4)\n",
    "C_52_4"
   ]
  },
  {
   "cell_type": "markdown",
   "metadata": {},
   "source": [
    "4. Вероятнисть того, что все 4 карты крести\n",
    "$$P = \\frac{C_{13}^4}{C_{52}^4}= \\frac{715}{270725}=0.00264 $$ "
   ]
  },
  {
   "cell_type": "code",
   "execution_count": 20,
   "metadata": {},
   "outputs": [
    {
     "data": {
      "text/plain": [
       "0.0026410564225690276"
      ]
     },
     "execution_count": 20,
     "metadata": {},
     "output_type": "execute_result"
    }
   ],
   "source": [
    "P=C_13_4/C_52_4\n",
    "P"
   ]
  },
  {
   "cell_type": "markdown",
   "metadata": {},
   "source": [
    "**Ответ**: Вероятнисть того, что все 4 карты крести **P=0,00264**"
   ]
  },
  {
   "cell_type": "markdown",
   "metadata": {},
   "source": [
    "### б) Найти вероятность, что среди 4-х карт окажется хотя бы один туз"
   ]
  },
  {
   "cell_type": "markdown",
   "metadata": {},
   "source": [
    "- Событие **B**={появится хотя бы один туз}\n",
    "- 52-4=48 - количество карт без 4 тузов\n",
    "- Вероятность события B - P(B):\n",
    "\n",
    "$$P(B) = 1-\\frac{C_{48}^4}{C_{52}^4}= 1 - \\frac{194580}{270725}=1 - 0.719 = 0.281$$ \n",
    "\n",
    "- $C_{48}^4 = 194580$ - Количество комбинаций по 4 карты из колоды в 52 карт из которой убрали 4 туза\n",
    "- $C_{52}^4 = 270725$ - Количество комбинаций по 4 карты из колоды в 52 карт\n",
    "- 1 - полная вероятность\n",
    "- ${C_{48}^4} / {C_{52}^4}= 0.719$  - Вероятность того, что среди карт не окажется ни одного туза\n"
   ]
  },
  {
   "cell_type": "code",
   "execution_count": 26,
   "metadata": {},
   "outputs": [
    {
     "data": {
      "text/plain": [
       "194580"
      ]
     },
     "execution_count": 26,
     "metadata": {},
     "output_type": "execute_result"
    }
   ],
   "source": [
    "C_48_4=combinations(48, 4)\n",
    "C_48_4"
   ]
  },
  {
   "cell_type": "code",
   "execution_count": 27,
   "metadata": {},
   "outputs": [
    {
     "data": {
      "text/plain": [
       "270725"
      ]
     },
     "execution_count": 27,
     "metadata": {},
     "output_type": "execute_result"
    }
   ],
   "source": [
    "C_52_4=combinations(52, 4)\n",
    "C_52_4"
   ]
  },
  {
   "cell_type": "code",
   "execution_count": 30,
   "metadata": {},
   "outputs": [
    {
     "data": {
      "text/plain": [
       "0.2812632745405854"
      ]
     },
     "execution_count": 30,
     "metadata": {},
     "output_type": "execute_result"
    }
   ],
   "source": [
    "P_b = 1 - C_48_4/C_52_4\n",
    "P_b"
   ]
  },
  {
   "cell_type": "markdown",
   "metadata": {},
   "source": [
    "**Ответ**: Вероятнисть того, что все 4 карты крести **P=0,281**"
   ]
  },
  {
   "cell_type": "markdown",
   "metadata": {},
   "source": [
    "## Задача 2"
   ]
  },
  {
   "cell_type": "markdown",
   "metadata": {},
   "source": [
    "На входной двери подъезда установлен кодовый замок, содержащий десять кнопок с цифрами от 0 до 9. Код содержит три цифры, которые нужно нажать одновременно. Какова вероятность того, что человек, не знающий код, откроет дверь с первой попытки?"
   ]
  },
  {
   "cell_type": "markdown",
   "metadata": {},
   "source": [
    "- k = 3 < 10\n",
    "- порядок важен\n",
    "\n",
    "Это **РАЗМЕЩЕНИЕ**"
   ]
  },
  {
   "cell_type": "markdown",
   "metadata": {},
   "source": [
    "### Решение: \n",
    "    \n",
    "- A - открыть с первой попытки\n",
    "- Общее количество комбинаций $n=C_{10}^3=\\frac{10!}{7!}=8*9*10=720$.\n",
    "- m=1\n",
    "- $P=\\frac{1}{720}=0.0014$"
   ]
  },
  {
   "cell_type": "code",
   "execution_count": 84,
   "metadata": {},
   "outputs": [
    {
     "name": "stdout",
     "output_type": "stream",
     "text": [
      "720\n"
     ]
    },
    {
     "data": {
      "text/plain": [
       "0.001388888888888889"
      ]
     },
     "execution_count": 84,
     "metadata": {},
     "output_type": "execute_result"
    }
   ],
   "source": [
    "C_10_3=arrangements(10, 3)\n",
    "print(C_10_3)\n",
    "P=1/C_10_3\n",
    "P"
   ]
  },
  {
   "cell_type": "markdown",
   "metadata": {},
   "source": [
    "### Ответ: Вероятность открыть дверь с первой попытки = 0.14%"
   ]
  },
  {
   "cell_type": "markdown",
   "metadata": {},
   "source": [
    "## Задача 3"
   ]
  },
  {
   "cell_type": "markdown",
   "metadata": {},
   "source": [
    "В ящике имеется 15 деталей, из которых 9 окрашены. Рабочий случайным образом извлекает 3 детали. Какова вероятность того, что все извлеченные детали окрашены?"
   ]
  },
  {
   "cell_type": "markdown",
   "metadata": {},
   "source": [
    "### Решение: \n",
    "    \n",
    "- Тянем 1-ю детадь, с вероятностью 9/15=3/5 вытянем окрашенную деталь.\n",
    "- Тянем 2-ю деталь. Вероятность вытянуть 2-ю окрашенную деталь = 8/14 = 4/7.\n",
    "- Тянем 3-ю деталь. Вероятность вытянуть 3-ю окрашенную деталь = 7/13.\n",
    "- Вероятность 3 раза подряд вытянуть окрашенную деталь = (3/5)*(4/7)*(7/13) = 0.18461538461538457 или около 18,5%"
   ]
  },
  {
   "cell_type": "code",
   "execution_count": 73,
   "metadata": {},
   "outputs": [
    {
     "data": {
      "text/plain": [
       "0.18461538461538457"
      ]
     },
     "execution_count": 73,
     "metadata": {},
     "output_type": "execute_result"
    }
   ],
   "source": [
    "(3/5)*(4/7)*(7/13)"
   ]
  },
  {
   "cell_type": "markdown",
   "metadata": {},
   "source": [
    "### Ответ: Вероятность 3 раза подряд вытянуть окрашенные детали = 18.5%"
   ]
  },
  {
   "cell_type": "markdown",
   "metadata": {},
   "source": [
    "## Задача 4"
   ]
  },
  {
   "cell_type": "markdown",
   "metadata": {},
   "source": [
    "В лотерее 100 билетов. Из них 2 выигрышных. Какова вероятность того, что 2 приобретенных билета окажутся выигрышными?"
   ]
  },
  {
   "cell_type": "markdown",
   "metadata": {},
   "source": [
    "### Решение 1: \n",
    "    \n",
    "- Тянем 1-й билет, с вероятностью 2/100=1/50 вытянем выигрышный билет.\n",
    "- Тянем 2-й билет. Вероятность вытянуть 2-й выигрышный билет = 1/99.\n",
    "- Вероятность 2 раза подряд вытянуть выигрыш = (1/50)*(1/99) = 1/4950 = 0.0002 или 0.02%"
   ]
  },
  {
   "cell_type": "code",
   "execution_count": 98,
   "metadata": {},
   "outputs": [
    {
     "data": {
      "text/plain": [
       "0.00020202020202020205"
      ]
     },
     "execution_count": 98,
     "metadata": {},
     "output_type": "execute_result"
    }
   ],
   "source": [
    "(1/50)*(1/99)"
   ]
  },
  {
   "cell_type": "markdown",
   "metadata": {},
   "source": [
    "### Ответ: Вероятность 2 раза подряд вытянуть выигрыш = 0.02%"
   ]
  },
  {
   "cell_type": "code",
   "execution_count": 102,
   "metadata": {},
   "outputs": [
    {
     "data": {
      "text/plain": [
       "0.00020202020202020202"
      ]
     },
     "execution_count": 102,
     "metadata": {},
     "output_type": "execute_result"
    }
   ],
   "source": [
    "P = combinations(2, 2)/combinations(100, 2)\n",
    "P"
   ]
  },
  {
   "cell_type": "markdown",
   "metadata": {},
   "source": [
    "## Задача 4"
   ]
  },
  {
   "cell_type": "markdown",
   "metadata": {},
   "source": [
    "### Решение 2: \n",
    "\n",
    "- Cобытия A - из 2-х купленных билетов ни один не выигрышный\n",
    "- Событие B - 1 приобретенных билет из 2-х окажется выигрышным\n",
    "- Событие C - 2 приобретенных билета окажутся выигрышными"
   ]
  },
  {
   "cell_type": "markdown",
   "metadata": {},
   "source": [
    "- Число исходов, благоприятсятвующих событию \n",
    "- Общее число исходов $C_{100}^2=4950$"
   ]
  },
  {
   "cell_type": "code",
   "execution_count": 54,
   "metadata": {},
   "outputs": [
    {
     "data": {
      "text/plain": [
       "4950"
      ]
     },
     "execution_count": 54,
     "metadata": {},
     "output_type": "execute_result"
    }
   ],
   "source": [
    "# Общее число исходов -  - это число способов выбрать любые 2 билета из 100 возможных.\n",
    "C_100_2=combinations(100, 2)\n",
    "C_100_2"
   ]
  },
  {
   "cell_type": "code",
   "execution_count": 45,
   "metadata": {},
   "outputs": [],
   "source": [
    "# Событие B - 1 приобретенных билет bp 2 окажется выигрышным"
   ]
  },
  {
   "cell_type": "code",
   "execution_count": 56,
   "metadata": {},
   "outputs": [
    {
     "data": {
      "text/plain": [
       "98"
      ]
     },
     "execution_count": 56,
     "metadata": {},
     "output_type": "execute_result"
    }
   ],
   "source": [
    "# один из купленных билетов не выигрышный\n",
    "С_98_1=combinations(98, 1)\n",
    "С_98_1"
   ]
  },
  {
   "cell_type": "code",
   "execution_count": 60,
   "metadata": {},
   "outputs": [
    {
     "data": {
      "text/plain": [
       "2"
      ]
     },
     "execution_count": 60,
     "metadata": {},
     "output_type": "execute_result"
    }
   ],
   "source": [
    "# один из 2-х билетов выигрышный\n",
    "С_2_1=combinations(2, 1)\n",
    "С_2_1"
   ]
  },
  {
   "cell_type": "code",
   "execution_count": 61,
   "metadata": {},
   "outputs": [
    {
     "data": {
      "text/plain": [
       "196"
      ]
     },
     "execution_count": 61,
     "metadata": {},
     "output_type": "execute_result"
    }
   ],
   "source": [
    "# Количество комбинаций, где хотя бы один билет выигрышный\n",
    "С1 = С_2_1*С_98_1\n",
    "С1"
   ]
  },
  {
   "cell_type": "code",
   "execution_count": null,
   "metadata": {},
   "outputs": [],
   "source": [
    "#  Количество комбинаций, где из 2-х купленных билетов ни один не выигрышный"
   ]
  },
  {
   "cell_type": "code",
   "execution_count": 62,
   "metadata": {},
   "outputs": [
    {
     "data": {
      "text/plain": [
       "4753"
      ]
     },
     "execution_count": 62,
     "metadata": {},
     "output_type": "execute_result"
    }
   ],
   "source": [
    "C_98_2=combinations(98, 2)\n",
    "C_98_2"
   ]
  },
  {
   "cell_type": "code",
   "execution_count": 63,
   "metadata": {},
   "outputs": [
    {
     "data": {
      "text/plain": [
       "0.9602020202020202"
      ]
     },
     "execution_count": 63,
     "metadata": {},
     "output_type": "execute_result"
    }
   ],
   "source": [
    "# Вероятность остаться без выигрыша\n",
    "P_A = C_98_2/C_100_2\n",
    "P_A"
   ]
  },
  {
   "cell_type": "code",
   "execution_count": 65,
   "metadata": {},
   "outputs": [
    {
     "data": {
      "text/plain": [
       "0.039595959595959594"
      ]
     },
     "execution_count": 65,
     "metadata": {},
     "output_type": "execute_result"
    }
   ],
   "source": [
    "# Вероятность того, что 1 из приобретенных билетов окажется выигрышными\n",
    "P_B = С1/C_100_2\n",
    "P_B"
   ]
  },
  {
   "cell_type": "code",
   "execution_count": 96,
   "metadata": {},
   "outputs": [
    {
     "data": {
      "text/plain": [
       "0.00020202020202023802"
      ]
     },
     "execution_count": 96,
     "metadata": {},
     "output_type": "execute_result"
    }
   ],
   "source": [
    "# Вероятность того, что 2 приобретенных билета окажутся выигрышными\n",
    "P_C = 1 - P_A - P_B\n",
    "P_C"
   ]
  },
  {
   "cell_type": "markdown",
   "metadata": {},
   "source": [
    "### Ответ:\n",
    "\n",
    "- Вероятность  того, что 2 приобретенных билета окажутся выигрышными мизерная P(C)=0.02%, при этом вероятность остаться без выигрыша велика - 96.02%.\n",
    "- Вероятность того хотя бы один из 2-х приобретенных билетов окажется выигрышным P(B)=3.96%.\n",
    "- Любая лотерея заведома проигрышна для участника.\n",
    "    "
   ]
  },
  {
   "cell_type": "code",
   "execution_count": null,
   "metadata": {},
   "outputs": [],
   "source": []
  }
 ],
 "metadata": {
  "kernelspec": {
   "display_name": "Python 3",
   "language": "python",
   "name": "python3"
  },
  "language_info": {
   "codemirror_mode": {
    "name": "ipython",
    "version": 3
   },
   "file_extension": ".py",
   "mimetype": "text/x-python",
   "name": "python",
   "nbconvert_exporter": "python",
   "pygments_lexer": "ipython3",
   "version": "3.8.5"
  }
 },
 "nbformat": 4,
 "nbformat_minor": 4
}
