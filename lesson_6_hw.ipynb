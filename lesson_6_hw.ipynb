{
 "cells": [
  {
   "cell_type": "markdown",
   "metadata": {},
   "source": [
    "# Теория вероятностей и математическая статистика"
   ]
  },
  {
   "cell_type": "markdown",
   "metadata": {},
   "source": [
    "### Урок 6. Взаимосвязь величин. Параметрические и непараметрические показатели корреляции. Корреляционный анализ."
   ]
  },
  {
   "cell_type": "markdown",
   "metadata": {},
   "source": [
    "Урок 6.\n",
    "\n",
    "1. Даны значения величины заработной платы заемщиков банка (zp) и значения их поведенческого кредитного скоринга (ks):\n",
    "\n",
    "   zp = [35, 45, 190, 200, 40, 70, 54, 150, 120, 110],\n",
    "   \n",
    "   ks = [401, 574, 874, 919, 459, 739, 653, 902, 746, 832].\n",
    "   \n",
    "   Найдите ковариацию этих двух величин с помощью элементарных действий, а затем с помощью функции cov из numpy\n",
    "   Полученные значения должны быть равны.\n",
    "   Найдите коэффициент корреляции Пирсона с помощью ковариации и среднеквадратичных отклонений двух признаков,\n",
    "   а затем с использованием функций из библиотек numpy и pandas.\n",
    "\n",
    "2. Измерены значения IQ выборки студентов,\n",
    "   обучающихся в местных технических вузах:\n",
    "   \n",
    "   131, 125, 115, 122, 131, 115, 107, 99, 125, 111.\n",
    "   \n",
    "   Известно, что в генеральной совокупности IQ распределен нормально.\n",
    "   Найдите доверительный интервал для математического ожидания с надежностью 0.95.\n",
    "\n",
    "3. Известно, что рост футболистов в сборной распределен нормально\n",
    "   с дисперсией генеральной совокупности, равной 25 кв.см. Объем выборки равен 27,\n",
    "   среднее выборочное составляет 174.2.\n",
    "   Найдите доверительный интервал для математического ожидания с альфа =0,95"
   ]
  },
  {
   "cell_type": "code",
   "execution_count": 37,
   "metadata": {},
   "outputs": [],
   "source": [
    "import numpy as np\n",
    "from statsmodels.stats.weightstats import _tconfint_generic as t_stat  # t-критерий\n",
    "from statsmodels.stats.weightstats import _zconfint_generic as z_stat  # z-критерий"
   ]
  },
  {
   "cell_type": "markdown",
   "metadata": {},
   "source": [
    "## Задача 1"
   ]
  },
  {
   "cell_type": "markdown",
   "metadata": {},
   "source": [
    "Даны значения величины заработной платы заемщиков банка (zp) и значения их поведенческого кредитного скоринга (ks):\n",
    "\n",
    "   zp = [35, 45, 190, 200, 40, 70, 54, 150, 120, 110],\n",
    "   \n",
    "   ks = [401, 574, 874, 919, 459, 739, 653, 902, 746, 832].\n",
    "   \n",
    "   Найдите ковариацию этих двух величин с помощью элементарных действий, а затем с помощью функции cov из numpy.\n",
    "   Полученные значения должны быть равны.\n",
    "   Найдите коэффициент корреляции Пирсона с помощью ковариации и среднеквадратичных отклонений двух признаков,\n",
    "   а затем с использованием функций из библиотек numpy и pandas."
   ]
  },
  {
   "cell_type": "code",
   "execution_count": 2,
   "metadata": {},
   "outputs": [
    {
     "data": {
      "text/plain": [
       "array([ 35,  45, 190, 200,  40,  70,  54, 150, 120, 110])"
      ]
     },
     "execution_count": 2,
     "metadata": {},
     "output_type": "execute_result"
    }
   ],
   "source": [
    "# s\n",
    "zp = np.array([35, 45, 190, 200, 40, 70, 54, 150, 120, 110])\n",
    "zp"
   ]
  },
  {
   "cell_type": "code",
   "execution_count": 3,
   "metadata": {},
   "outputs": [
    {
     "data": {
      "text/plain": [
       "array([401, 574, 874, 919, 459, 739, 653, 902, 746, 832])"
      ]
     },
     "execution_count": 3,
     "metadata": {},
     "output_type": "execute_result"
    }
   ],
   "source": [
    "# p\n",
    "ks = np.array([401, 574, 874, 919, 459, 739, 653, 902, 746, 832])\n",
    "ks"
   ]
  },
  {
   "cell_type": "code",
   "execution_count": 4,
   "metadata": {},
   "outputs": [
    {
     "data": {
      "text/plain": [
       "9157.839999999997"
      ]
     },
     "execution_count": 4,
     "metadata": {},
     "output_type": "execute_result"
    }
   ],
   "source": [
    "# Ковариация cov = M(XY) - M(X)M(Y)\n",
    "cov_ks = np.mean(ks*zp) - np.mean(ks) * np.mean(zp) \n",
    "cov_ks"
   ]
  },
  {
   "cell_type": "code",
   "execution_count": 5,
   "metadata": {},
   "outputs": [
    {
     "data": {
      "text/plain": [
       "array([[ 3494.64,  9157.84],\n",
       "       [ 9157.84, 30468.89]])"
      ]
     },
     "execution_count": 5,
     "metadata": {},
     "output_type": "execute_result"
    }
   ],
   "source": [
    "# Ковариация смещённая (ddof=0)\n",
    "np.cov(zp, ks, ddof=0)\n",
    "# np.cov(ks,zp, ddof=0)"
   ]
  },
  {
   "cell_type": "code",
   "execution_count": 6,
   "metadata": {},
   "outputs": [
    {
     "data": {
      "text/plain": [
       "array([[33854.32222222, 10175.37777778],\n",
       "       [10175.37777778,  3882.93333333]])"
      ]
     },
     "execution_count": 6,
     "metadata": {},
     "output_type": "execute_result"
    }
   ],
   "source": [
    "# Коввариация несмещённая (ddof=1)\n",
    "np.cov(ks,zp)"
   ]
  },
  {
   "cell_type": "code",
   "execution_count": 7,
   "metadata": {},
   "outputs": [
    {
     "data": {
      "text/plain": [
       "array([[33854.32222222, 10175.37777778],\n",
       "       [10175.37777778,  3882.93333333]])"
      ]
     },
     "execution_count": 7,
     "metadata": {},
     "output_type": "execute_result"
    }
   ],
   "source": [
    "# Коввариация несмещённая\n",
    "np.cov(ks, zp, ddof=1)"
   ]
  },
  {
   "cell_type": "code",
   "execution_count": 8,
   "metadata": {},
   "outputs": [
    {
     "data": {
      "text/plain": [
       "174.55340157098058"
      ]
     },
     "execution_count": 8,
     "metadata": {},
     "output_type": "execute_result"
    }
   ],
   "source": [
    "# Стандартное отклонение смещённое\n",
    "std_ks = np.std(ks, ddof=0)\n",
    "# std_ks = ks.std()\n",
    "std_ks"
   ]
  },
  {
   "cell_type": "code",
   "execution_count": 9,
   "metadata": {},
   "outputs": [
    {
     "data": {
      "text/plain": [
       "59.115480206118605"
      ]
     },
     "execution_count": 9,
     "metadata": {},
     "output_type": "execute_result"
    }
   ],
   "source": [
    "# Стандартное отклонение смещённое\n",
    "std_zp = np.std(zp, ddof=0)\n",
    "#std_zp = zp.std()\n",
    "std_zp"
   ]
  },
  {
   "cell_type": "code",
   "execution_count": 10,
   "metadata": {},
   "outputs": [
    {
     "data": {
      "text/plain": [
       "0.8874900920739158"
      ]
     },
     "execution_count": 10,
     "metadata": {},
     "output_type": "execute_result"
    }
   ],
   "source": [
    "# Коэффициент корреляции Пирсона 9157.839999999997/(174.55340157098058*59.115480206118605)\n",
    "korr_ks = cov_ks/(std_ks*std_zp)\n",
    "korr_ks"
   ]
  },
  {
   "cell_type": "code",
   "execution_count": 11,
   "metadata": {},
   "outputs": [
    {
     "data": {
      "text/plain": [
       "array([[1.        , 0.88749009],\n",
       "       [0.88749009, 1.        ]])"
      ]
     },
     "execution_count": 11,
     "metadata": {},
     "output_type": "execute_result"
    }
   ],
   "source": [
    "# Коэффициент корреляции Пирсона\n",
    "np.corrcoef(ks,zp)"
   ]
  },
  {
   "cell_type": "markdown",
   "metadata": {},
   "source": [
    "Включите ddof=1 если вы вычисляете np.std() для образца, взятого из вашего полного набора данных.\n",
    "\n",
    "Убедитесь, что ddof=0 если вы вычисляете np.std() для всей совокупности"
   ]
  },
  {
   "cell_type": "markdown",
   "metadata": {},
   "source": [
    "## Задача 2"
   ]
  },
  {
   "cell_type": "markdown",
   "metadata": {},
   "source": [
    "Измерены значения IQ выборки студентов, обучающихся в местных технических вузах:\n",
    "\n",
    "131, 125, 115, 122, 131, 115, 107, 99, 125, 111.\n",
    "\n",
    "Известно, что в генеральной совокупности IQ распределен нормально. Найдите доверительный интервал для математического ожидания с надежностью 0.95."
   ]
  },
  {
   "cell_type": "markdown",
   "metadata": {},
   "source": [
    "$\\sigma$ не известно. Используем t-критерий"
   ]
  },
  {
   "cell_type": "code",
   "execution_count": 12,
   "metadata": {},
   "outputs": [
    {
     "data": {
      "text/plain": [
       "array([131., 125., 115., 122., 131., 115., 107.,  99., 125., 111.])"
      ]
     },
     "execution_count": 12,
     "metadata": {},
     "output_type": "execute_result"
    }
   ],
   "source": [
    "X = np.array([131.0, 125.0, 115.0, 122.0, 131.0, 115.0, 107.0, 99.0, 125.0, 111.0])\n",
    "X"
   ]
  },
  {
   "cell_type": "code",
   "execution_count": 13,
   "metadata": {},
   "outputs": [
    {
     "name": "stdout",
     "output_type": "stream",
     "text": [
      "Объём выборки n = 10\n",
      "Число степеней свободы nu = 9\n",
      "Среднее выборочное X_cp = 118.1\n",
      "Статистический уровень значимости alpha = 0.050000000000000044\n",
      "Коэффициент Стьюдента табличный t(p=0.975, nu=9) = 2.262\n",
      "Несмещённое среднеквадратичное отклонение sigma = 10.54566788359614\n"
     ]
    }
   ],
   "source": [
    "n=len(X)  # Объём выборки\n",
    "X_cp = X.mean()  # Среднее арифмитическое для данной выборки\n",
    "nu = n-1  # Число степеней свободы\n",
    "alpha = 1 - 0.95\n",
    "t_975_9 = 2.262  # Коэффициент Стьюдента табличный t(p=0.975, nu=9)\n",
    "#sigma = X.std() # Стандартное отклонение смещённое\n",
    "sigma = X.std(ddof=1)  # Несмещённое среднеквадратичное отклонение\n",
    "print(f'Объём выборки n = {n}')\n",
    "print(f'Число степеней свободы nu = {nu}')\n",
    "print(f'Среднее выборочное X_cp = {X_cp}')\n",
    "print(f'Статистический уровень значимости alpha = {alpha}')\n",
    "print(f'Коэффициент Стьюдента табличный t(p=0.975, nu=9) = {t_975_9}')\n",
    "# print(f'Смещённое среднеквадратичное отклонение sigma = {sigma}')\n",
    "print(f'Несмещённое среднеквадратичное отклонение sigma = {sigma}')"
   ]
  },
  {
   "cell_type": "markdown",
   "metadata": {},
   "source": [
    "Доверительный интервал $[ 110.5566; 125.6434 ]$ с вероятностью $95\\%$\n",
    "\n",
    "$$\\overline{X} \\pm t_{\\alpha/2} \\cdot \\frac{\\sigma}{\\sqrt{n}} = 118.1 \\pm 2.262 \\cdot \\frac{10.5567}{\\sqrt{10}} = 118.1 \\pm 7.5434$$\n"
   ]
  },
  {
   "cell_type": "code",
   "execution_count": 14,
   "metadata": {},
   "outputs": [
    {
     "data": {
      "text/plain": [
       "3.3348329959851224"
      ]
     },
     "execution_count": 14,
     "metadata": {},
     "output_type": "execute_result"
    }
   ],
   "source": [
    "se=sigma/np.sqrt(n)\n",
    "se"
   ]
  },
  {
   "cell_type": "code",
   "execution_count": 15,
   "metadata": {},
   "outputs": [
    {
     "data": {
      "text/plain": [
       "7.543392236918348"
      ]
     },
     "execution_count": 15,
     "metadata": {},
     "output_type": "execute_result"
    }
   ],
   "source": [
    "mean_std_X = t_975_9*sigma/np.sqrt(n)\n",
    "mean_std_X"
   ]
  },
  {
   "cell_type": "code",
   "execution_count": 16,
   "metadata": {},
   "outputs": [
    {
     "data": {
      "text/plain": [
       "110.55660776308164"
      ]
     },
     "execution_count": 16,
     "metadata": {},
     "output_type": "execute_result"
    }
   ],
   "source": [
    "X_cp - t_975_9*sigma/np.sqrt(n)"
   ]
  },
  {
   "cell_type": "code",
   "execution_count": 17,
   "metadata": {},
   "outputs": [
    {
     "data": {
      "text/plain": [
       "125.64339223691834"
      ]
     },
     "execution_count": 17,
     "metadata": {},
     "output_type": "execute_result"
    }
   ],
   "source": [
    "X_cp + t_975_9*sigma/np.sqrt(n)"
   ]
  },
  {
   "cell_type": "code",
   "execution_count": 18,
   "metadata": {},
   "outputs": [
    {
     "data": {
      "text/plain": [
       "(110.55608365158724, 125.64391634841274)"
      ]
     },
     "execution_count": 18,
     "metadata": {},
     "output_type": "execute_result"
    }
   ],
   "source": [
    "t_stat(X_cp, sigma/np.sqrt(n), n - 1, 0.05, 'two-sided')"
   ]
  },
  {
   "cell_type": "markdown",
   "metadata": {},
   "source": [
    "**Ответ**: Доверительный интервал [ 110.5566; 125.6434 ] с вероятностью 95%"
   ]
  },
  {
   "cell_type": "markdown",
   "metadata": {},
   "source": [
    "## Задача 3"
   ]
  },
  {
   "cell_type": "markdown",
   "metadata": {},
   "source": [
    "Известно, что рост футболистов в сборной распределен нормально с дисперсией генеральной совокупности, равной 25 кв.см.\n",
    "\n",
    "Объем выборки равен 27, среднее выборочное составляет 174.2.\n",
    "\n",
    "Найдите доверительный интервал для математического ожидания с альфа =0,95"
   ]
  },
  {
   "cell_type": "markdown",
   "metadata": {},
   "source": [
    "𝜎  известно. Используем z-критерий."
   ]
  },
  {
   "cell_type": "code",
   "execution_count": 19,
   "metadata": {},
   "outputs": [],
   "source": [
    "M =  174.2  # выборочная средняя \n",
    "D = 25.0  # дисперсией генеральной совокупности\n",
    "n = 27  # объем выборки\n",
    "sigma = np.sqrt(D)  # средне квадратическое отклонением\n",
    "alpha = 0.05  # статистический уровень значимости 𝛼=0.05"
   ]
  },
  {
   "cell_type": "code",
   "execution_count": 20,
   "metadata": {},
   "outputs": [
    {
     "name": "stdout",
     "output_type": "stream",
     "text": [
      "Объём выборки n = 27\n",
      "Среднее выборочное X_cp = 118.1\n",
      "дисперсией генеральной совокупности D = 25.0\n",
      "Cреднеквадратичное отклонение sigma = 5.0\n",
      "Статистический уровень значимости alpha = 0.05\n"
     ]
    }
   ],
   "source": [
    "print(f'Объём выборки n = {n}')\n",
    "print(f'Среднее выборочное X_cp = {X_cp}')\n",
    "print(f'дисперсией генеральной совокупности D = {D}')\n",
    "print(f'Cреднеквадратичное отклонение sigma = {sigma}')\n",
    "print(f'Статистический уровень значимости alpha = {alpha}')"
   ]
  },
  {
   "cell_type": "markdown",
   "metadata": {},
   "source": [
    "z табличное для $\\alpha/2=0.025$\n",
    "\n",
    "$$z_{\\alpha/2} = 1.96$$"
   ]
  },
  {
   "cell_type": "code",
   "execution_count": 21,
   "metadata": {},
   "outputs": [],
   "source": [
    "z_alpfa_2=1.96  # z табличное для  𝛼/2"
   ]
  },
  {
   "cell_type": "markdown",
   "metadata": {},
   "source": [
    "Доверительный интервал $[ 172.3140; 176.0860 ]$ с вероятностью $95\\%$\n",
    "\n",
    "$$\\overline{X} \\pm z_{\\alpha/2} \\cdot \\frac{\\sigma}{\\sqrt{n}} = 174.2 \\pm 1.96 \\cdot \\frac{5.0}{\\sqrt{27}} \\approx 174.2 \\pm 1.96 * 0.96225 \\approx 174.2 \\pm 1.8860$$"
   ]
  },
  {
   "cell_type": "code",
   "execution_count": 22,
   "metadata": {},
   "outputs": [
    {
     "data": {
      "text/plain": [
       "0.9622504486493763"
      ]
     },
     "execution_count": 22,
     "metadata": {},
     "output_type": "execute_result"
    }
   ],
   "source": [
    "se=sigma/np.sqrt(n)\n",
    "se"
   ]
  },
  {
   "cell_type": "code",
   "execution_count": 33,
   "metadata": {},
   "outputs": [
    {
     "data": {
      "text/plain": [
       "1.8860108793527774"
      ]
     },
     "execution_count": 33,
     "metadata": {},
     "output_type": "execute_result"
    }
   ],
   "source": [
    "se*z_alpfa_2"
   ]
  },
  {
   "cell_type": "code",
   "execution_count": 34,
   "metadata": {},
   "outputs": [
    {
     "data": {
      "text/plain": [
       "172.31398912064722"
      ]
     },
     "execution_count": 34,
     "metadata": {},
     "output_type": "execute_result"
    }
   ],
   "source": [
    "M - z_alpfa_2*sigma/np.sqrt(n)"
   ]
  },
  {
   "cell_type": "code",
   "execution_count": 35,
   "metadata": {},
   "outputs": [
    {
     "data": {
      "text/plain": [
       "176.08601087935276"
      ]
     },
     "execution_count": 35,
     "metadata": {},
     "output_type": "execute_result"
    }
   ],
   "source": [
    "M + z_alpfa_2*sigma/np.sqrt(n)"
   ]
  },
  {
   "cell_type": "code",
   "execution_count": 36,
   "metadata": {},
   "outputs": [
    {
     "data": {
      "text/plain": [
       "(172.3140237765397, 176.08597622346028)"
      ]
     },
     "execution_count": 36,
     "metadata": {},
     "output_type": "execute_result"
    }
   ],
   "source": [
    "# return _zconfint_generic(self.mean, self.std_mean, alpha, alternative)\n",
    "z_stat(M, se, alpha, 'two-sided')"
   ]
  },
  {
   "cell_type": "markdown",
   "metadata": {},
   "source": [
    "**Ответ**: Доверительный интервал [ 172.3140237765397, 176.08597622346028 ] с вероятностью 95%"
   ]
  },
  {
   "cell_type": "code",
   "execution_count": null,
   "metadata": {},
   "outputs": [],
   "source": []
  }
 ],
 "metadata": {
  "kernelspec": {
   "display_name": "Python 3",
   "language": "python",
   "name": "python3"
  },
  "language_info": {
   "codemirror_mode": {
    "name": "ipython",
    "version": 3
   },
   "file_extension": ".py",
   "mimetype": "text/x-python",
   "name": "python",
   "nbconvert_exporter": "python",
   "pygments_lexer": "ipython3",
   "version": "3.8.5"
  }
 },
 "nbformat": 4,
 "nbformat_minor": 4
}
