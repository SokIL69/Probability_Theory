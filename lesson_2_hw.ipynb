{
 "cells": [
  {
   "cell_type": "markdown",
   "metadata": {},
   "source": [
    "# Теория вероятностей и математическая статистика"
   ]
  },
  {
   "cell_type": "markdown",
   "metadata": {},
   "source": [
    "### Урок 2. Дискретные случайные величины. Закон распределения вероятностей. Биномиальный закон распределения. Распределение Пуассона"
   ]
  },
  {
   "cell_type": "markdown",
   "metadata": {},
   "source": [
    "Урок 2.\n",
    "\n",
    "1. Вероятность того, что стрелок попадет в мишень, выстрелив один раз, равна 0.8. Стрелок выстрелил 100 раз. Найдите вероятность того, что стрелок попадет в цель ровно 85 раз.\n",
    "2. Вероятность того, что лампочка перегорит в течение первого дня эксплуатации, равна 0.0004. В жилом комплексе после ремонта в один день включили 5000 новых лампочек. Какова вероятность, что ни одна из них не перегорит в первый день? Какова вероятность, что перегорят ровно две?\n",
    "3. Монету подбросили 144 раза. Какова вероятность, что орел выпадет ровно 70 раз?\n",
    "4. В первом ящике находится 10 мячей, из которых 7 - белые. Во втором ящике - 11 мячей, из которых 9 белых. Из каждого ящика вытаскивают случайным образом по два мяча. Какова вероятность того, что все мячи белые? Какова вероятность того, что ровно два мяча белые? Какова вероятность того, что хотя бы один мяч белый?"
   ]
  },
  {
   "cell_type": "code",
   "execution_count": 1,
   "metadata": {},
   "outputs": [],
   "source": [
    "from math import factorial\n",
    "import pandas as pd\n",
    "import numpy as np"
   ]
  },
  {
   "cell_type": "markdown",
   "metadata": {},
   "source": [
    "Число сочетаний\n",
    "\n",
    "$$C_{n}^k =\\frac{n!}{k!(n - k)!}$$ "
   ]
  },
  {
   "cell_type": "code",
   "execution_count": 2,
   "metadata": {},
   "outputs": [],
   "source": [
    "def combinations(n, k):\n",
    "    # Число сочетаний из  𝑛  элементов по  𝑘  элементов в каждом (в сочетаниях порядок не важен):\n",
    "    return int(factorial(n) / (factorial(k) * factorial(n - k)))"
   ]
  },
  {
   "cell_type": "markdown",
   "metadata": {},
   "source": [
    "## Задача 1"
   ]
  },
  {
   "cell_type": "markdown",
   "metadata": {},
   "source": [
    "Вероятность того, что стрелок попадет в мишень, выстрелив один раз, равна 0.8. Стрелок выстрелил 100 раз. Найдите вероятность того, что стрелок попадет в цель ровно 85 раз."
   ]
  },
  {
   "cell_type": "markdown",
   "metadata": {},
   "source": [
    "- X - дискретная случайная величина\n",
    "- p = 0.8\n",
    "- n = 100\n",
    "- k = 85\n",
    "\n",
    "поэтому используем формулу Бернули.\n",
    "$$P_n(x=k)=C_{n}^k p^k q^{n-k}$$"
   ]
  },
  {
   "cell_type": "markdown",
   "metadata": {},
   "source": [
    "для нашего случая\n",
    "$$P_{100}(x=85)=C_{100}^{85} p^{85} q^{15}$$ \n",
    "\n",
    "p = 0.8, q= 1 - p = 0.2"
   ]
  },
  {
   "cell_type": "code",
   "execution_count": 3,
   "metadata": {},
   "outputs": [
    {
     "data": {
      "text/plain": [
       "253338471349988640"
      ]
     },
     "execution_count": 3,
     "metadata": {},
     "output_type": "execute_result"
    }
   ],
   "source": [
    "n=100\n",
    "k=85\n",
    "p=0.8\n",
    "q=1-p\n",
    "\n",
    "C_n_k=combinations(n, k)\n",
    "C_n_k"
   ]
  },
  {
   "cell_type": "code",
   "execution_count": 4,
   "metadata": {},
   "outputs": [
    {
     "name": "stdout",
     "output_type": "stream",
     "text": [
      "Вероятность того, что стрелок попадет в цель ровно 85 раз P=0.048\n"
     ]
    }
   ],
   "source": [
    "P=C_n_k*(p**k)*q**(n-k)\n",
    "\n",
    "print(f\"Вероятность того, что стрелок попадет в цель ровно 85 раз P={P :.3f}\")"
   ]
  },
  {
   "cell_type": "markdown",
   "metadata": {},
   "source": [
    "**Ответ**: Вероятность того, что стрелок попадет в цель ровно 85 раз P=0.048"
   ]
  },
  {
   "cell_type": "markdown",
   "metadata": {},
   "source": [
    "## Задача 2"
   ]
  },
  {
   "cell_type": "markdown",
   "metadata": {},
   "source": [
    "Вероятность того, что лампочка перегорит в течение первого дня эксплуатации, равна p=0.0004. В жилом комплексе после ремонта в один день включили 5000 новых лампочек.\n",
    "- Какова вероятность, что ни одна из них не перегорит в первый день?\n",
    "- Какова вероятность, что перегорят ровно две?"
   ]
  },
  {
   "cell_type": "markdown",
   "metadata": {},
   "source": [
    "- X - дискретная случайная величина\n",
    "- $p = 0.0004 < 0.1$\n",
    "- $n = 5000$ - достаточно большое\n",
    "- $m_1=0$ - А - не перегорела ни одна лампочка\n",
    "- $m_2=2$ - B - перегорело ровно 2 лампочки\n",
    "\n",
    "Поэтому используем формулу Пуассона.\n",
    "$$P_m=\\frac{\\lambda^m}{m!}{e^{-\\lambda}}$$"
   ]
  },
  {
   "cell_type": "code",
   "execution_count": 5,
   "metadata": {},
   "outputs": [],
   "source": [
    "p=0.0004\n",
    "n=5000"
   ]
  },
  {
   "cell_type": "markdown",
   "metadata": {},
   "source": [
    "### 2.1 Какова вероятность, что ни одна из них не перегорит в первый день? \n",
    "\n",
    "$$m_1=0$$"
   ]
  },
  {
   "cell_type": "code",
   "execution_count": 6,
   "metadata": {},
   "outputs": [
    {
     "name": "stdout",
     "output_type": "stream",
     "text": [
      "lambda=2.0\n"
     ]
    }
   ],
   "source": [
    "m=0\n",
    "L=p*n\n",
    "print(f\"lambda={L}\")"
   ]
  },
  {
   "cell_type": "markdown",
   "metadata": {},
   "source": [
    "Учитываем, что \n",
    "$$P = 1 - P_m$$"
   ]
  },
  {
   "cell_type": "code",
   "execution_count": 7,
   "metadata": {},
   "outputs": [
    {
     "name": "stdout",
     "output_type": "stream",
     "text": [
      "Вероятность, что ни одна из них не перегорит в первый день P(0)=0.865\n"
     ]
    },
    {
     "data": {
      "text/plain": [
       "0.8648356401384083"
      ]
     },
     "execution_count": 7,
     "metadata": {},
     "output_type": "execute_result"
    }
   ],
   "source": [
    "exp=2.72\n",
    "P_0=1 - ((L**m)/(factorial(m)))*exp**(-L)\n",
    "print(f\"Вероятность, что ни одна из них не перегорит в первый день P(0)={P_0 :.3f}\")\n",
    "P_0"
   ]
  },
  {
   "cell_type": "markdown",
   "metadata": {},
   "source": [
    "**Ответ**: Вероятность, что ни одна из них не перегорит в первый день P(0) = 86.5%"
   ]
  },
  {
   "cell_type": "markdown",
   "metadata": {},
   "source": [
    "## 2.2 Какова вероятность, что перегорят ровно две?\n",
    "$$m_2=2$$"
   ]
  },
  {
   "cell_type": "code",
   "execution_count": 8,
   "metadata": {},
   "outputs": [
    {
     "name": "stdout",
     "output_type": "stream",
     "text": [
      "lambda=2.0\n"
     ]
    }
   ],
   "source": [
    "m=2\n",
    "L=p*n\n",
    "print(f\"lambda={L}\")"
   ]
  },
  {
   "cell_type": "markdown",
   "metadata": {},
   "source": [
    "Учитываем, что \n",
    "$$P = 1 - P_m$$"
   ]
  },
  {
   "cell_type": "code",
   "execution_count": 9,
   "metadata": {},
   "outputs": [
    {
     "name": "stdout",
     "output_type": "stream",
     "text": [
      "Вероятность, что перегорят ровно две в первый день P(2)=0.730\n"
     ]
    },
    {
     "data": {
      "text/plain": [
       "0.7296712802768166"
      ]
     },
     "execution_count": 9,
     "metadata": {},
     "output_type": "execute_result"
    }
   ],
   "source": [
    "P_2 = 1 - ((L**m)/(factorial(m)))*exp**(-L)\n",
    "print(f\"Вероятность, что перегорят ровно две в первый день P(2)={P_2 :.3f}\")\n",
    "P_2"
   ]
  },
  {
   "cell_type": "markdown",
   "metadata": {},
   "source": [
    "**Ответ**: Вероятность, что перегорят ровно две в первый день P(2) = 73%"
   ]
  },
  {
   "cell_type": "markdown",
   "metadata": {},
   "source": [
    "## Задача 3"
   ]
  },
  {
   "cell_type": "markdown",
   "metadata": {},
   "source": [
    "Монету подбросили 144 раза. Какова вероятность, что орел выпадет ровно 70 раз?"
   ]
  },
  {
   "cell_type": "markdown",
   "metadata": {},
   "source": [
    "- X - дискретная случайная величина\n",
    "- p = 1/2\n",
    "- q = 1 - p =1/2\n",
    "- n = 144\n",
    "- k = 70\n",
    "\n",
    "Поэтому используем формулу Бернули:\n",
    "\n",
    "$$P_n(x=k)=C_{n}^k p^k q^{n-k}$$\n",
    "\n",
    "$$C_{n}^k =\\frac{n!}{k!(n - k)!}$$"
   ]
  },
  {
   "cell_type": "code",
   "execution_count": 10,
   "metadata": {},
   "outputs": [
    {
     "data": {
      "text/plain": [
       "1400749509083708712353342007350408066891776"
      ]
     },
     "execution_count": 10,
     "metadata": {},
     "output_type": "execute_result"
    }
   ],
   "source": [
    "n=144\n",
    "k=70\n",
    "p=0.5\n",
    "q=1-p\n",
    "\n",
    "C_n_k=combinations(n, k)\n",
    "C_n_k"
   ]
  },
  {
   "cell_type": "code",
   "execution_count": 11,
   "metadata": {},
   "outputs": [
    {
     "name": "stdout",
     "output_type": "stream",
     "text": [
      "Вероятность того,  что орел выпадет ровно 70 раз P = 0.063\n"
     ]
    }
   ],
   "source": [
    "P=C_n_k*(p**k)*q**(n-k)\n",
    "\n",
    "print(f\"Вероятность того,  что орел выпадет ровно 70 раз P = {P :.3f}\")"
   ]
  },
  {
   "cell_type": "markdown",
   "metadata": {},
   "source": [
    "**Ответ**: Вероятность того,  что орел выпадет ровно 70 раз P = 6.3%"
   ]
  },
  {
   "cell_type": "markdown",
   "metadata": {},
   "source": [
    "## Задача 4"
   ]
  },
  {
   "cell_type": "markdown",
   "metadata": {},
   "source": [
    "В первом ящике находится 10 мячей, из которых 7 - белые. Во втором ящике - 11 мячей, из которых 9 белых.\n",
    "\n",
    "Из каждого ящика вытаскивают случайным образом по два мяча.\n",
    "- Какова вероятность того, что все мячи белые?\n",
    "- Какова вероятность того, что ровно два мяча белые?\n",
    "- Какова вероятность того, что хотя бы один мяч белый?"
   ]
  },
  {
   "cell_type": "markdown",
   "metadata": {},
   "source": [
    "### 4.1 Какова вероятность того, что все мячи белые?"
   ]
  },
  {
   "cell_type": "markdown",
   "metadata": {},
   "source": [
    "\n",
    "А1 - мячи, вынутые из первого ящика все белые\n",
    "\n",
    "А2 - мячи, вынутые из второго ящика все белые\n",
    "\n",
    "А = А1 * А2 - все мячи белые\n",
    "\n",
    "$P(A1) =  \\frac{C_{7}^{2}}{C_{10}^{2} }$\n",
    "\n",
    "$P(A2) =  \\frac{C_{9}^{2}}{C_{11}^{2} }$\n",
    "\n",
    "$P(A) = P(A1)*P(A2)$"
   ]
  },
  {
   "cell_type": "code",
   "execution_count": 12,
   "metadata": {},
   "outputs": [
    {
     "name": "stdout",
     "output_type": "stream",
     "text": [
      "P_A1 = 46.7 %\n",
      "P_A2 = 65.5 %\n"
     ]
    }
   ],
   "source": [
    "P_A1 = combinations(7, 2)/combinations(10, 2)\n",
    "print(f\"P_A1 = {P_A1*100:.1f} %\")\n",
    "P_A2 = combinations(9, 2)/combinations(11, 2)\n",
    "print(f\"P_A2 = {P_A2*100:.1f} %\")"
   ]
  },
  {
   "cell_type": "code",
   "execution_count": 13,
   "metadata": {},
   "outputs": [
    {
     "name": "stdout",
     "output_type": "stream",
     "text": [
      "P_A = 30.5%\n"
     ]
    }
   ],
   "source": [
    "P_A = P_A1 * P_A2\n",
    "print(f\"P_A = {P_A*100:.1f}%\")"
   ]
  },
  {
   "cell_type": "markdown",
   "metadata": {},
   "source": [
    "**Ответ**: Вероятность того, что все мячи белые P(A)=30.5%"
   ]
  },
  {
   "cell_type": "markdown",
   "metadata": {},
   "source": [
    "### 4.2 Какова вероятность того, что ровно два мяча белые?"
   ]
  },
  {
   "cell_type": "markdown",
   "metadata": {},
   "source": [
    "A11- из первого ящика вынули два белых мяча\n",
    "\n",
    "А12 - из второго ящика вынули только черные мячи\n",
    "\n",
    "А21 - из второго ящика вынули два белых мяча\n",
    "\n",
    "А22 - из первого ящика вынули только черные мячи\n",
    "\n",
    "А31 - из первого ящика вынули один белый мячи\n",
    "\n",
    "А32 - из второго ящика вынули один белый мячи\n",
    "\n",
    "А = А11 А12 + А21 А22 + А31 * А32 - вынули ровно два белых мяча\n",
    "\n",
    "$P(A11) =  \\frac{C_{7}^{2}}{C_{10}^{2} }$\n",
    "\n",
    "$P(A12) =\\frac{C_{2}^{2}}{C_{11}^{2} }$"
   ]
  },
  {
   "cell_type": "code",
   "execution_count": 14,
   "metadata": {},
   "outputs": [
    {
     "name": "stdout",
     "output_type": "stream",
     "text": [
      "P_A11 = 46.7 %\n",
      "P_A2 = 65.5 %\n"
     ]
    }
   ],
   "source": [
    "P_A11 = combinations(7, 2)/combinations(10, 2)\n",
    "print(f\"P_A11 = {P_A11*100:.1f} %\")\n",
    "P_A12 = combinations(2, 2)/combinations(11, 2)\n",
    "print(f\"P_A2 = {P_A2*100:.1f} %\")"
   ]
  },
  {
   "cell_type": "markdown",
   "metadata": {},
   "source": [
    "$P(A21) =  \\frac{C_{9}^{2}}{C_{11}^{2} }$\n",
    "\n",
    "$P(A22) =\\frac{C_{3}^{2}}{C_{10}^{2} }$"
   ]
  },
  {
   "cell_type": "code",
   "execution_count": 15,
   "metadata": {},
   "outputs": [
    {
     "name": "stdout",
     "output_type": "stream",
     "text": [
      "P_A21 = 65.5 %\n",
      "P_A22 = 6.7 %\n"
     ]
    }
   ],
   "source": [
    "P_A21 = combinations(9, 2)/combinations(11, 2)\n",
    "print(f\"P_A21 = {P_A21*100:.1f} %\")\n",
    "P_A22 = combinations(3, 2)/combinations(10, 2)\n",
    "print(f\"P_A22 = {P_A22*100:.1f} %\")"
   ]
  },
  {
   "cell_type": "markdown",
   "metadata": {},
   "source": [
    "$P(A31) = \\frac{C_{7}^{1}}{C_{10}^{1}}*\\frac{C_{3}^{1}}{C_{10}^{1}} = \\frac{C_{7}^{1} * C_{3}^{1}}{C_{10}^{2}}$\n",
    "\n",
    "$P(A31) = \\frac{C_{9}^{1}}{C_{11}^{1}}*\\frac{C_{2}^{1}}{C_{11}^{1}} = \\frac{C_{9}^{1} * C_{2}^{1}}{C_{11}^{2}}$"
   ]
  },
  {
   "cell_type": "code",
   "execution_count": 16,
   "metadata": {},
   "outputs": [
    {
     "name": "stdout",
     "output_type": "stream",
     "text": [
      "P_A31 = 44.7 %\n",
      "P_A32 = 34.0 %\n"
     ]
    }
   ],
   "source": [
    "P_A31 = (combinations(7, 1)*combinations(3, 1))/(combinations(10, 2)^2)\n",
    "print(f\"P_A31 = {P_A31*100:.1f} %\")\n",
    "P_A32 = (combinations(9, 1)*combinations(2, 1))/(combinations(11, 2)^2)\n",
    "print(f\"P_A32 = {P_A32*100:.1f} %\")"
   ]
  },
  {
   "cell_type": "code",
   "execution_count": 17,
   "metadata": {},
   "outputs": [
    {
     "name": "stdout",
     "output_type": "stream",
     "text": [
      "Вероятность того, что вынут ровно два белых мяча = 0.204\n"
     ]
    }
   ],
   "source": [
    "PA = P_A11*P_A12 + P_A21*P_A22 + P_A31*P_A32\n",
    "print(f'Вероятность того, что вынут ровно два белых мяча = {PA :.3f}')"
   ]
  },
  {
   "cell_type": "markdown",
   "metadata": {},
   "source": [
    "**Ответ**: Вероятность того, что вынут ровно два белых мяча P(A)= 20.4%"
   ]
  },
  {
   "cell_type": "markdown",
   "metadata": {},
   "source": [
    "### 4.3 Какова вероятность того, что хотя бы один мяч белый?"
   ]
  },
  {
   "cell_type": "markdown",
   "metadata": {},
   "source": [
    "А12 - из второго ящика вынули только черные мячи\n",
    "\n",
    "А22 - из первого ящика вынули только черные мячи\n",
    "\n",
    "A = A12A22\n",
    "\n",
    "P(1) = 1 - P(0) = 1 - P_A12*P_22"
   ]
  },
  {
   "cell_type": "code",
   "execution_count": 18,
   "metadata": {},
   "outputs": [
    {
     "name": "stdout",
     "output_type": "stream",
     "text": [
      "Вероятность того, что что хотя бы один мяч белый = 0.988\n"
     ]
    }
   ],
   "source": [
    "P_1 = 1 - P_A12*P_A2\n",
    "P_1\n",
    "print(f'Вероятность того, что что хотя бы один мяч белый = {P_1 :.3f}')"
   ]
  },
  {
   "cell_type": "markdown",
   "metadata": {},
   "source": [
    "**Ответ**: Вероятность того, что что хотя бы один мяч белый = 98.8%"
   ]
  },
  {
   "cell_type": "code",
   "execution_count": null,
   "metadata": {},
   "outputs": [],
   "source": []
  }
 ],
 "metadata": {
  "kernelspec": {
   "display_name": "Python 3",
   "language": "python",
   "name": "python3"
  },
  "language_info": {
   "codemirror_mode": {
    "name": "ipython",
    "version": 3
   },
   "file_extension": ".py",
   "mimetype": "text/x-python",
   "name": "python",
   "nbconvert_exporter": "python",
   "pygments_lexer": "ipython3",
   "version": "3.8.5"
  }
 },
 "nbformat": 4,
 "nbformat_minor": 4
}
